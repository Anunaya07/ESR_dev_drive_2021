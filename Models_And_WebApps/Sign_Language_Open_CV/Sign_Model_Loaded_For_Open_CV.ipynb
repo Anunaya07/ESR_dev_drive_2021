{
 "cells": [
  {
   "cell_type": "code",
   "execution_count": 1,
   "id": "3de77f0f",
   "metadata": {},
   "outputs": [],
   "source": [
    "from keras.models import load_model"
   ]
  },
  {
   "cell_type": "code",
   "execution_count": 2,
   "id": "542f5bc9",
   "metadata": {},
   "outputs": [],
   "source": [
    "model=load_model(r'sign_lang_recog_train_model.h5')"
   ]
  },
  {
   "cell_type": "code",
   "execution_count": 3,
   "id": "d0f23269",
   "metadata": {},
   "outputs": [
    {
     "name": "stdout",
     "output_type": "stream",
     "text": [
      "Model: \"sequential\"\n",
      "_________________________________________________________________\n",
      "Layer (type)                 Output Shape              Param #   \n",
      "=================================================================\n",
      "conv2d (Conv2D)              (None, 128, 128, 32)      320       \n",
      "_________________________________________________________________\n",
      "max_pooling2d (MaxPooling2D) (None, 64, 64, 32)        0         \n",
      "_________________________________________________________________\n",
      "conv2d_1 (Conv2D)            (None, 64, 64, 32)        9248      \n",
      "_________________________________________________________________\n",
      "max_pooling2d_1 (MaxPooling2 (None, 32, 32, 32)        0         \n",
      "_________________________________________________________________\n",
      "flatten (Flatten)            (None, 32768)             0         \n",
      "_________________________________________________________________\n",
      "dense (Dense)                (None, 128)               4194432   \n",
      "_________________________________________________________________\n",
      "dense_1 (Dense)              (None, 96)                12384     \n",
      "_________________________________________________________________\n",
      "dense_2 (Dense)              (None, 64)                6208      \n",
      "_________________________________________________________________\n",
      "dense_3 (Dense)              (None, 27)                1755      \n",
      "=================================================================\n",
      "Total params: 4,224,347\n",
      "Trainable params: 4,224,347\n",
      "Non-trainable params: 0\n",
      "_________________________________________________________________\n"
     ]
    }
   ],
   "source": [
    "model.summary()"
   ]
  },
  {
   "cell_type": "code",
   "execution_count": 7,
   "id": "7e1e4062",
   "metadata": {},
   "outputs": [],
   "source": [
    "dic={0:\"Blank\"}"
   ]
  },
  {
   "cell_type": "code",
   "execution_count": 8,
   "id": "98707e29",
   "metadata": {},
   "outputs": [],
   "source": [
    "for i in range(26):\n",
    "    dic[i+1]=chr(65+i)"
   ]
  },
  {
   "cell_type": "code",
   "execution_count": 10,
   "id": "e084b4fd",
   "metadata": {},
   "outputs": [
    {
     "data": {
      "text/plain": [
       "{0: 'Blank',\n",
       " 1: 'A',\n",
       " 2: 'B',\n",
       " 3: 'C',\n",
       " 4: 'D',\n",
       " 5: 'E',\n",
       " 6: 'F',\n",
       " 7: 'G',\n",
       " 8: 'H',\n",
       " 9: 'I',\n",
       " 10: 'J',\n",
       " 11: 'K',\n",
       " 12: 'L',\n",
       " 13: 'M',\n",
       " 14: 'N',\n",
       " 15: 'O',\n",
       " 16: 'P',\n",
       " 17: 'Q',\n",
       " 18: 'R',\n",
       " 19: 'S',\n",
       " 20: 'T',\n",
       " 21: 'U',\n",
       " 22: 'V',\n",
       " 23: 'W',\n",
       " 24: 'X',\n",
       " 25: 'Y',\n",
       " 26: 'Z'}"
      ]
     },
     "execution_count": 10,
     "metadata": {},
     "output_type": "execute_result"
    }
   ],
   "source": [
    "dic"
   ]
  },
  {
   "cell_type": "code",
   "execution_count": 18,
   "id": "2fbac0a1",
   "metadata": {},
   "outputs": [],
   "source": [
    "import cv2\n",
    "from keras.models import load_model\n",
    "from keras.preprocessing.image import img_to_array\n",
    "model=load_model(r'sign_lang_recog_train_model.h5')\n",
    "def letter(r):\n",
    "    dic={0: 'Blank',1: 'A',2: 'B',3: 'C',4: 'D',5: 'E',6: 'F',7: 'G',8: 'H',9: 'I',10: 'J',11: 'K',12: 'L',13: 'M',14: 'N',15: 'O',16: 'P',17: 'Q',18: 'R',19: 'S',20: 'T',21: 'U',22: 'V',23: 'W',24: 'X',25: 'Y',26: 'Z'}\n",
    "    return dic[r]\n",
    "    \n",
    "cap = cv2.VideoCapture(0) #camera acessing\n",
    "while True:\n",
    "    _, frame = cap.read()\n",
    "    labels = []\n",
    "    if not _:\n",
    "        print(\"Oops! looks like I don't have access to your camera :-(\") #unble to access camera error message\n",
    "        break\n",
    "        \n",
    "    \n",
    "    cv2.rectangle(frame, (320,100),(620, 400), (255,0,0),5)\n",
    "    roi=frame[100:400,320:620]\n",
    "    roi=cv2.flip(roi, 1)\n",
    "    #cv2.imshow('roi',roi)\n",
    "    roi = cv2.cvtColor(roi, cv2.COLOR_BGR2GRAY)\n",
    "    roi=cv2.resize(roi,(128,128),interpolation =cv2.INTER_AREA)\n",
    "    roi = roi.astype('float')/255.0\n",
    "    roi = img_to_array(roi)\n",
    "    #cv2.imshow('roi sacled and gray', roi)\n",
    "    \n",
    "    roi= roi.reshape(1,128,128,1)    #128*128\n",
    "    result = model.predict(roi)[0]\n",
    "    #print(result)\n",
    "    result=list(result)\n",
    "    result=int(result.index(max(result)))\n",
    "    #print(type(result))\n",
    "    #print(result)\n",
    "    cv2.putText(frame,str(letter(result)),(300,100),cv2.FONT_HERSHEY_COMPLEX,2,(0,255,0),2)\n",
    "    cv2.imshow('Sign Language Recognisation', frame)\n",
    "    \n",
    "    if cv2.waitKey(1) & 0xFF == ord('q'): #press q to exit the camera window!\n",
    "        break\n",
    "\n",
    "cap.release()\n",
    "cv2.destroyAllWindows()"
   ]
  },
  {
   "cell_type": "code",
   "execution_count": null,
   "id": "199fb646",
   "metadata": {},
   "outputs": [],
   "source": []
  }
 ],
 "metadata": {
  "kernelspec": {
   "display_name": "Python 3",
   "language": "python",
   "name": "python3"
  },
  "language_info": {
   "codemirror_mode": {
    "name": "ipython",
    "version": 3
   },
   "file_extension": ".py",
   "mimetype": "text/x-python",
   "name": "python",
   "nbconvert_exporter": "python",
   "pygments_lexer": "ipython3",
   "version": "3.8.8"
  }
 },
 "nbformat": 4,
 "nbformat_minor": 5
}
